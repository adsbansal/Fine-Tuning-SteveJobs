{
  "nbformat": 4,
  "nbformat_minor": 0,
  "metadata": {
    "colab": {
      "provenance": []
    },
    "kernelspec": {
      "name": "python3",
      "display_name": "Python 3"
    },
    "language_info": {
      "name": "python"
    }
  },
  "cells": [
    {
      "cell_type": "code",
      "source": [
        "!pip install gradientai --upgrade"
      ],
      "metadata": {
        "id": "wak76xYYUdXE",
        "outputId": "d16878a1-e795-482c-ff37-d24641b3ea8e",
        "colab": {
          "base_uri": "https://localhost:8080/"
        }
      },
      "execution_count": 1,
      "outputs": [
        {
          "output_type": "stream",
          "name": "stdout",
          "text": [
            "Collecting gradientai\n",
            "  Downloading gradientai-1.1.0-py3-none-any.whl (158 kB)\n",
            "\u001b[2K     \u001b[90m━━━━━━━━━━━━━━━━━━━━━━━━━━━━━━━━━━━━━━━━\u001b[0m \u001b[32m158.8/158.8 kB\u001b[0m \u001b[31m5.2 MB/s\u001b[0m eta \u001b[36m0:00:00\u001b[0m\n",
            "\u001b[?25hCollecting aenum>=3.1.11 (from gradientai)\n",
            "  Downloading aenum-3.1.15-py3-none-any.whl (137 kB)\n",
            "\u001b[2K     \u001b[90m━━━━━━━━━━━━━━━━━━━━━━━━━━━━━━━━━━━━━━━━\u001b[0m \u001b[32m137.6/137.6 kB\u001b[0m \u001b[31m12.5 MB/s\u001b[0m eta \u001b[36m0:00:00\u001b[0m\n",
            "\u001b[?25hRequirement already satisfied: pydantic<2.0.0,>=1.10.5 in /usr/local/lib/python3.10/dist-packages (from gradientai) (1.10.13)\n",
            "Requirement already satisfied: python-dateutil>=2.8.2 in /usr/local/lib/python3.10/dist-packages (from gradientai) (2.8.2)\n",
            "Requirement already satisfied: urllib3>=1.25.3 in /usr/local/lib/python3.10/dist-packages (from gradientai) (2.0.7)\n",
            "Requirement already satisfied: typing-extensions>=4.2.0 in /usr/local/lib/python3.10/dist-packages (from pydantic<2.0.0,>=1.10.5->gradientai) (4.5.0)\n",
            "Requirement already satisfied: six>=1.5 in /usr/local/lib/python3.10/dist-packages (from python-dateutil>=2.8.2->gradientai) (1.16.0)\n",
            "Installing collected packages: aenum, gradientai\n",
            "Successfully installed aenum-3.1.15 gradientai-1.1.0\n"
          ]
        }
      ]
    },
    {
      "cell_type": "code",
      "source": [
        "import os\n",
        "os.environ['GRADIENT_ACCESS_TOKEN'] = \"VgYfQefdj97C5IieGrYX366wL4ZJGy4E\"\n",
        "os.environ['GRADIENT_WORKSPACE_ID'] = \"b4cffd63-116a-4e4f-a409-398f4ad66e4e_workspace\""
      ],
      "metadata": {
        "id": "U02ytLrPA2rG"
      },
      "execution_count": 2,
      "outputs": []
    },
    {
      "cell_type": "code",
      "source": [
        "from gradientai import Gradient\n",
        "import json\n",
        "\n",
        "def inp_data():\n",
        "  json_file_path = 'data.json'\n",
        "\n",
        "  with open(json_file_path, 'r') as file:\n",
        "      json_data = json.load(file)\n",
        "\n",
        "  samples = [{\"inputs\": f\"### Instruction: {item['question']} \\n\\n### Response: {item['answer']}\"} for item in json_data]\n",
        "\n",
        "  return samples\n",
        "\n",
        "def main(samples):\n",
        "  with Gradient() as gradient:\n",
        "      base_model = gradient.get_base_model(base_model_slug=\"nous-hermes2\")\n",
        "\n",
        "      new_model_adapter = base_model.create_model_adapter(\n",
        "          name=\"test model 3\"\n",
        "      )\n",
        "\n",
        "      print(f\"Created model adapter with id {new_model_adapter.id}\")\n",
        "      sample_query = \"### Instruction: I am trying to market a revolutionalary new product called 'facecans'. Facecans are virtual reality headsets. How would Steve Jobs market such a product? \\n\\n### Response:\"\n",
        "      print(f\"Asking: {sample_query}\")\n",
        "\n",
        "      # before fine-tuning\n",
        "      completion = new_model_adapter.complete(query=sample_query, max_generated_token_count=100).generated_output\n",
        "      print(f\"Generated (before fine-tune): {completion}\")\n",
        "\n",
        "      # this is where fine-tuning happens\n",
        "      # num_epochs is the number of times you fine-tune the model\n",
        "      # more epochs tends to get better results, but you also run the risk of \"overfitting\"\n",
        "      # play around with this number to find what works best for you\n",
        "      num_epochs = 2\n",
        "      count = 0\n",
        "      while count < num_epochs:\n",
        "          print(f\"Fine-tuning the model, iteration {count + 1}\")\n",
        "          new_model_adapter.fine_tune(samples=samples)\n",
        "          count = count + 1\n",
        "\n",
        "      # after fine-tuning\n",
        "      completion = new_model_adapter.complete(query=sample_query, max_generated_token_count=100).generated_output\n",
        "      print(f\"Generated (after fine-tune): {completion}\")\n",
        "\n",
        "      # new_model_adapter.delete()\n",
        "\n",
        "  def infer():\n"
      ],
      "metadata": {
        "id": "Scor9o08VVhQ"
      },
      "execution_count": 5,
      "outputs": []
    },
    {
      "cell_type": "code",
      "source": [
        "samples = inp_data()\n",
        "print(samples)"
      ],
      "metadata": {
        "id": "qxcWcILooOJV",
        "outputId": "15c0b533-1877-486d-f8f4-ca5e1632f6ba",
        "colab": {
          "base_uri": "https://localhost:8080/"
        }
      },
      "execution_count": 8,
      "outputs": [
        {
          "output_type": "stream",
          "name": "stdout",
          "text": [
            "[{'inputs': \"### Instruction: What does the article suggest about the continued relevance of Steve Jobs' marketing strategies in today's landscape? \\n\\n### Response: The article suggests that Steve Jobs' marketing strategies remain relevant and continue to inspire marketers in the ever-changing landscape of marketing.\"}, {'inputs': '### Instruction: What is the key message regarding advertising in the article? \\n\\n### Response: The article emphasizes that advertising should focus on conveying emotions rather than listing features and benefits.'}, {'inputs': '### Instruction: How does the article suggest that Apple sells its products? \\n\\n### Response: Apple sells its products by promoting the belief that they enable customers to learn, express themselves, and change the world, focusing on the emotional aspect.'}, {'inputs': '### Instruction: What advice does the article give for aligning product features with the belief you want to sell? \\n\\n### Response: The article suggests that product features should align with the belief being promoted. For example, if you want to sell portability, the product should be compact, thin, and light.'}, {'inputs': '### Instruction: How does the article advise setting values and conveying them through advertising and social media? \\n\\n### Response: The article recommends setting values through advertisements and social media by making it obvious in commercials and using social media to share brand values.'}, {'inputs': '### Instruction: What is the role of brand ambassadors in conveying brand values? \\n\\n### Response: Brand ambassadors play a significant role in conveying brand values, as they can create different brand images depending on who the ambassador is.'}, {'inputs': '### Instruction: What is the importance of turning customers into fans, as mentioned in the article? \\n\\n### Response: Turning customers into fans creates a community of supporters, making the brand more recognizable and fostering loyalty.'}, {'inputs': '### Instruction: How does the article describe the success of brands that build communities or tribes around them? \\n\\n### Response: The article suggests that successful brands are those that build communities or tribes, as people like to be part of a community, and this strategy pays off in brand loyalty and advocacy.'}, {'inputs': \"### Instruction: What does Apple's advertising show about its target customers? \\n\\n### Response: Apple's advertising clearly shows that its products are designed for artists, professionals, creative individuals, and those who think differently.\"}, {'inputs': '### Instruction: What is the unique selling point mentioned in the article regarding Apple products? \\n\\n### Response: The unique selling point of Apple products is their ease of use and the frictionless experience they offer to customers.'}, {'inputs': '### Instruction: Why is prioritizing customer relationships considered important, according to the article? \\n\\n### Response: Prioritizing customer relationships is important because it creates a positive experience for customers and fosters loyalty, which can set a company apart from competitors.'}, {'inputs': '### Instruction: What are the strategies mentioned in the conclusion for taking a company to the next level? \\n\\n### Response: The strategies mentioned in the conclusion include selling emotions, building a community around products, showing the target audience, making the buying experience frictionless, and prioritizing customers above all else.'}, {'inputs': \"### Instruction: How does the article describe Apple's approach to customer support and services? \\n\\n### Response: The article briefly mentions that Apple places a high value on customer support, ensuring a pleasant experience and treating customers as individuals.\"}, {'inputs': \"### Instruction: What quote by Steve Jobs is included in the conclusion, and what is its significance? \\n\\n### Response: The quote in the conclusion is: 'The people who are crazy enough to think they can change the world are the ones who do.' This quote emphasizes the importance of thinking differently and taking action.\"}, {'inputs': '### Instruction: What does the author of the article suggest is worth paying for when it comes to Apple products? \\n\\n### Response: The author suggests that the convenience, customer support, quality, and emotional experience offered by Apple products make them worth the price, even though they are criticized for being expensive.'}, {'inputs': \"### Instruction: How does the article describe the anticipation and hype surrounding Apple's product releases? \\n\\n### Response: The article describes the anticipation before an Apple event as unique and the hype after a new iPhone's release as unlike any other product in the world.\"}, {'inputs': '### Instruction: How does the article relate the concept of building a community to successful brand building? \\n\\n### Response: The article suggests that successful brand building often involves creating a community around the brand, as people like to belong to communities, and this contributes to brand loyalty.'}, {'inputs': \"### Instruction: How does Apple make its target customers evident in its commercials? \\n\\n### Response: Apple's commercials make their target customers evident by showcasing artists, professionals, creative individuals, and those who think differently using their products.\"}, {'inputs': '### Instruction: What is the significance of making the experience of buying a product frictionless, as mentioned in the article? \\n\\n### Response: Making the buying experience frictionless is significant because it can give a company an advantage over competitors and attract customers who value a seamless experience.'}, {'inputs': \"### Instruction: What are the main themes discussed in the conclusion regarding Steve Jobs and Apple's marketing approach? \\n\\n### Response: The main themes discussed in the conclusion are selling emotions, building a community of fans, showing the target audience, ensuring a frictionless experience, and prioritizing customer relationships.\"}, {'inputs': '### Instruction: How does the article characterize the culture behind Apple and its products? \\n\\n### Response: The article characterizes the culture behind Apple as one that has evolved over the years, with unique anticipation before events and exceptional hype after product releases.'}, {'inputs': \"### Instruction: What is the connection between advertising and a brand's social media presence, as suggested in the article? \\n\\n### Response: The article suggests that a brand's social media presence and advertising can shape how people perceive the brand, with a strong connection between the two.\"}, {'inputs': '### Instruction: What does the article advise for setting values through social media in a competitive niche? \\n\\n### Response: In a competitive niche, the article advises setting values through social media by explaining the reasons behind pricing or product attributes to help customers make choices between similar products.'}, {'inputs': '### Instruction: How is the concept of turning customers into fans related to the idea of building a tribe, as discussed in the article? \\n\\n### Response: Turning customers into fans is related to the idea of building a tribe as it fosters a sense of belonging and loyalty, similar to what is observed in successful communities and brand building.'}, {'inputs': '### Instruction: What is the role of collaborations and brand ambassadors in conveying brand values, according to the article? \\n\\n### Response: Collaborations and brand ambassadors play a role in conveying brand values by creating different brand images depending on who is associated with the brand.'}, {'inputs': '### Instruction: How does the article describe the role of values in highly competitive niches like coffee? \\n\\n### Response: In highly competitive niches like coffee, values can make a big difference and help customers make choices between similar products, especially if they justify a higher price or unique selling point.'}, {'inputs': '### Instruction: What does the article suggest about the strategies Steve Jobs used to make Apple successful? \\n\\n### Response: The article suggests that Steve Jobs used strategies such as selling emotions, building a community, showing the target audience, making the product experience frictionless, and prioritizing customers above all else to make Apple successful.'}, {'inputs': \"### Instruction: What does the article propose about the relationship between convenience and Apple's success? \\n\\n### Response: The article highlights that Apple's products are known for their ease of use and frictionless experience, which has contributed significantly to Apple's success in the tech industry.\"}, {'inputs': '### Instruction: What has been the mission of Apple since its foundation? \\n\\n### Response: The mission of Apple since its foundation has been to move the human race forward.'}, {'inputs': \"### Instruction: According to the article, what role did Steve Jobs see for Nike's marketing strategy? \\n\\n### Response: Steve Jobs saw the brilliance of Nike's marketing strategy in showcasing star athletes and associating them with the Nike brand. He understood the psychological impact of this approach.\"}, {'inputs': \"### Instruction: What is the core idea behind Apple's 'Think Different' ad campaign? \\n\\n### Response: The core idea behind Apple's 'Think Different' ad campaign is to honor individuals who are willing to challenge the status quo and change the world.\"}, {'inputs': \"### Instruction: How did Steve Jobs change Apple's core value when he returned to the company? \\n\\n### Response: Steve Jobs changed Apple's core value from helping people do their jobs better to the idea that people who use Apple products have a passion for making the world better.\"}, {'inputs': \"### Instruction: What marketing strategy did Steve Jobs encourage at Apple? \\n\\n### Response: Steve Jobs encouraged the marketing strategy of 'Don't market products, market dreams.'\"}, {'inputs': '### Instruction: What was the major concern of the iPod team when discussing the iPhone as a possible product? \\n\\n### Response: The major concern of the iPod team was the possible future loss of market share and revenue if cell phones could also play MP3s.'}, {'inputs': \"### Instruction: How did Steve Jobs ensure that the information about the iPhone did not leak before its announcement? \\n\\n### Response: Steve Jobs used secrecy and posters in the office, referencing 'Fight Club' to ensure that information about the iPhone (code-named The Purple Project) did not leak to the press.\"}, {'inputs': \"### Instruction: How did Apple employees under Steve Jobs' leadership perceive their role? \\n\\n### Response: Apple employees under Steve Jobs' leadership were often described as being like members of a religious community, with a strong sense of loyalty and devotion to Jobs' vision.\"}, {'inputs': \"### Instruction: What key elements of Steve Jobs' marketing strategy are mentioned in the article? \\n\\n### Response: Key elements of Steve Jobs' marketing strategy mentioned in the article include simplicity, focusing on customer experience, innovation, creating a lifestyle, emotional connection, the Apple ecosystem, and a consistent branding approach.\"}, {'inputs': \"### Instruction: Why is Apple's branding considered successful? \\n\\n### Response: Apple's branding is considered successful due to its product quality and design, innovation, user experience, emotional connection with customers, consistent branding, the Apple ecosystem, premium pricing strategy, and successful marketing campaigns.\"}, {'inputs': \"### Instruction: What is the role of innovation in Apple's branding success? \\n\\n### Response: Innovation plays a significant role in Apple's branding success as the company is known for pushing technological boundaries and constantly improving its products.\"}, {'inputs': '### Instruction: How does Apple create an emotional connection with its customers? \\n\\n### Response: Apple creates an emotional connection with its customers by presenting its products as part of an exclusive community and a particular lifestyle.'}, {'inputs': \"### Instruction: What impact did the Apple Retail Stores have on the company's branding? \\n\\n### Response: Apple Retail Stores had a positive impact on Apple's branding by allowing the company to control every aspect of the customer experience and by maintaining high standards.\"}, {'inputs': '### Instruction: What did Steve Jobs encourage his employees to sell instead of products? \\n\\n### Response: Steve Jobs encouraged his employees to sell dreams and experiences, not just products.'}, {'inputs': \"### Instruction: How did Steve Jobs convince John Sculley to become the CEO of Apple? \\n\\n### Response: Steve Jobs convinced John Sculley to join Apple by asking him, 'Do you want to spend the rest of your life selling flavored sugar water, or would you rather change the world with me?'\"}, {'inputs': \"### Instruction: What are some of the elements of Apple's distribution strategy during Steve Jobs' tenure? \\n\\n### Response: Some elements of Apple's distribution strategy during Steve Jobs' tenure include selective distribution, Apple Retail Stores, online sales, exclusive carrier partnerships, strategic global expansion, working with third-party retailers, and efficient supply chain management.\"}, {'inputs': \"### Instruction: What role did the iPod play in the discussion of the iPhone as a product? \\n\\n### Response: The iPod was responsible for about half of Apple's revenue when discussing the iPhone as a possible product. The iPod team had concerns about possible future competition with cell phones playing MP3s.\"}, {'inputs': '### Instruction: What was the importance of maintaining secrecy around the iPhone project? \\n\\n### Response: Maintaining secrecy around the iPhone project was crucial to Steve Jobs, as he wanted to dazzle the world with the announcement and prevent any information leaks that could spoil the anticipation.'}, {'inputs': \"### Instruction: What term was often used by Apple employees in reference to Steve Jobs' hiring strategy? \\n\\n### Response: Apple employees often used the term 'Do you want to spend your life selling sugar water or...' in reference to Steve Jobs' hiring strategy for John Sculley.\"}, {'inputs': '### Instruction: What impact did Steve Jobs have on product launches and presentations? \\n\\n### Response: Steve Jobs had a significant impact on product launches and presentations by creating excitement and anticipation through storytelling and suspense.'}, {'inputs': '### Instruction: What did Steve Jobs believe should be the starting point for product development? \\n\\n### Response: Steve Jobs believed that the starting point for product development should be the customer experience, working backward to the technology.'}, {'inputs': '### Instruction: What marketing approach did Steve Jobs discourage in the article? \\n\\n### Response: Steve Jobs discouraged the approach of trying to convince the audience that a product is right for them.'}, {'inputs': \"### Instruction: What is the 'Think Different' campaign about? \\n\\n### Response: The 'Think Different' campaign is about honoring individuals who challenge the status quo and change the world.\"}, {'inputs': \"### Instruction: What was the change in Apple's core value when Steve Jobs returned to the company? \\n\\n### Response: The core value of Apple changed from helping people do their jobs better with Apple-made products to the idea that Apple users have a passion for making the world better.\"}, {'inputs': \"### Instruction: What was Steve Jobs' approach to marketing dreams? \\n\\n### Response: Steve Jobs encouraged the approach of 'Don't market products, market dreams' in marketing.\"}, {'inputs': \"### Instruction: What did the Apple Retail Stores contribute to Apple's branding? \\n\\n### Response: Apple Retail Stores contributed to Apple's branding by allowing the company to control every aspect of the customer experience and maintaining high standards.\"}, {'inputs': \"### Instruction: How did Steve Jobs ensure that information about the iPhone did not leak before its announcement? \\n\\n### Response: Steve Jobs used secrecy and posters referencing 'Fight Club' to prevent information leaks about the iPhone (code-named The Purple Project).\"}, {'inputs': \"### Instruction: How did Apple employees perceive their role under Steve Jobs' leadership? \\n\\n### Response: Apple employees under Steve Jobs' leadership were often described as being like members of a religious community, with a strong sense of loyalty and devotion to Jobs' vision.\"}, {'inputs': \"### Instruction: What key elements of Steve Jobs' marketing strategy are mentioned in the article? \\n\\n### Response: Key elements of Steve Jobs' marketing strategy mentioned in the article include simplicity, focusing on customer experience, innovation, creating a lifestyle, emotional connection, the Apple ecosystem, and a consistent branding approach.\"}, {'inputs': \"### Instruction: Why is Apple's branding considered successful? \\n\\n### Response: Apple's branding is considered successful due to its product quality and design, innovation, user experience, emotional connection with customers, consistent branding, the Apple ecosystem, premium pricing strategy, and successful marketing campaigns.\"}, {'inputs': \"### Instruction: What was Steve Jobs' primary gift, according to the article? \\n\\n### Response: Steve Jobs' primary gift was marketing.\"}, {'inputs': \"### Instruction: Who was one of Steve Jobs' early mentors in marketing? \\n\\n### Response: One of Steve Jobs' early mentors in marketing was Regis McKenna.\"}, {'inputs': '### Instruction: What were the three core company principles outlined by Jobs and Markkula when Apple was launched? \\n\\n### Response: The three core company principles outlined by Jobs and Markkula were empathy with customers, focusing on doing a few things really well, and imputing values like simplicity and high quality into everything they did.'}, {'inputs': \"### Instruction: What is the importance of creating a great product in marketing, as mentioned in the article? \\n\\n### Response: Creating a great product is essential in marketing because it's hard to market a subpar product. Steve Jobs believed in controlling both the product and the marketing to ensure success.\"}, {'inputs': \"### Instruction: What was the major risk Steve Jobs took with the 1984 Macintosh commercial? \\n\\n### Response: Steve Jobs took a significant risk by spending $1.7 million (equivalent to $3.4 million today) on a 60-second Super Bowl ad for the Macintosh, even when Apple's board initially disliked it.\"}, {'inputs': \"### Instruction: How did Steve Jobs use 'event marketing' to create experiences? \\n\\n### Response: Steve Jobs used 'event marketing' to create experiences by making the promotion itself so revolutionary or unique that it became an event in its own right.\"}, {'inputs': \"### Instruction: What was one of Steve Jobs' techniques to build suspense and anticipation before product launches? \\n\\n### Response: Steve Jobs built suspense and anticipation before product launches by gradually leaking information about the product, starting with hints, rumors, and counter-rumors.\"}, {'inputs': '### Instruction: Why did Steve Jobs create an enemy in his marketing strategy? \\n\\n### Response: Steve Jobs created an enemy in his marketing strategy because he believed that drama and conflict were essential for effective storytelling and propaganda, which was crucial for leading a movement.'}, {'inputs': '### Instruction: How did Steve Jobs turn customers into advocates for the Apple brand? \\n\\n### Response: Steve Jobs turned customers into passionate advocates for the Apple brand by making them feel like part of a mission and a larger movement rather than just customers.'}, {'inputs': \"### Instruction: What is the approach that Apple follows in its advertising, according to the article? \\n\\n### Response: Apple's advertising approach focuses on using images rather than words, aligning with the core value of simplicity.\"}, {'inputs': \"### Instruction: What was Steve Jobs' primary gift, according to the article? \\n\\n### Response: Steve Jobs' primary gift was marketing.\"}, {'inputs': \"### Instruction: Who was one of Steve Jobs' early mentors in marketing? \\n\\n### Response: One of Steve Jobs' early mentors in marketing was Regis McKenna.\"}, {'inputs': '### Instruction: What were the three core company principles outlined by Jobs and Markkula when Apple was launched? \\n\\n### Response: The three core company principles outlined by Jobs and Markkula were empathy with customers, focusing on doing a few things really well, and imputing values like simplicity and high quality into everything they did.'}, {'inputs': \"### Instruction: What is the importance of creating a great product in marketing, as mentioned in the article? \\n\\n### Response: Creating a great product is essential in marketing because it's hard to market a subpar product. Steve Jobs believed in controlling both the product and the marketing to ensure success.\"}, {'inputs': \"### Instruction: What was the major risk Steve Jobs took with the 1984 Macintosh commercial? \\n\\n### Response: Steve Jobs took a significant risk by spending $1.7 million (equivalent to $3.4 million today) on a 60-second Super Bowl ad for the Macintosh, even when Apple's board initially disliked it.\"}, {'inputs': \"### Instruction: How did Steve Jobs use 'event marketing' to create experiences? \\n\\n### Response: Steve Jobs used 'event marketing' to create experiences by making the promotion itself so revolutionary or unique that it became an event in its own right.\"}, {'inputs': \"### Instruction: What was one of Steve Jobs' techniques to build suspense and anticipation before product launches? \\n\\n### Response: Steve Jobs built suspense and anticipation before product launches by gradually leaking information about the product, starting with hints, rumors, and counter-rumors.\"}, {'inputs': '### Instruction: Why did Steve Jobs create an enemy in his marketing strategy? \\n\\n### Response: Steve Jobs created an enemy in his marketing strategy because he believed that drama and conflict were essential for effective storytelling and propaganda, which was crucial for leading a movement.'}, {'inputs': '### Instruction: How did Steve Jobs turn customers into advocates for the Apple brand? \\n\\n### Response: Steve Jobs turned customers into passionate advocates for the Apple brand by making them feel like part of a mission and a larger movement rather than just customers.'}, {'inputs': \"### Instruction: What is the approach that Apple follows in its advertising, according to the article? \\n\\n### Response: Apple's advertising approach focuses on using images rather than words, aligning with the core value of simplicity.\"}, {'inputs': '### Instruction: Who was responsible for creating the famous 1984 Apple Macintosh commercial? \\n\\n### Response: The director Ridley Scott was responsible for creating the famous 1984 Apple Macintosh commercial.'}, {'inputs': '### Instruction: How did Steve Jobs use suspense and surprise in his marketing strategy? \\n\\n### Response: Steve Jobs used suspense and surprise by revealing new and groundbreaking products or features during press conferences and events.'}, {'inputs': '### Instruction: What does the article say about the importance of unity in design? \\n\\n### Response: The article emphasizes that unity in design is crucial, as it extends to various aspects of a company, including websites, press releases, storefronts, and product packaging.'}, {'inputs': \"### Instruction: What is the significance of Apple's 'One more thing' gesture, as mentioned in the article? \\n\\n### Response: The 'One more thing' gesture used by Steve Jobs created anticipation by adding an unexpected surprise at the end of press conferences, which often left the audience in awe.\"}, {'inputs': '### Instruction: How did Steve Jobs turn Apple customers into advocates for the brand? \\n\\n### Response: Steve Jobs turned Apple customers into passionate advocates by making them feel part of a larger mission and movement, fostering a sense of community.'}, {'inputs': \"### Instruction: What is the core value of simplicity, and how does Apple align with it in their marketing approach? \\n\\n### Response: The core value of simplicity is central to Apple's marketing approach, where they focus on saying more with fewer words and using images as powerful storytelling tools.\"}, {'inputs': \"### Instruction: What are the key elements of Steve Jobs' approach to marketing and product launches? \\n\\n### Response: Key elements of Steve Jobs' approach include creating suspense, revealing new products in a dramatic fashion, and involving the audience emotionally in the marketing events.\"}, {'inputs': \"### Instruction: How did Steve Jobs use the concept of 'event marketing' to his advantage? \\n\\n### Response: Steve Jobs used 'event marketing' by making the promotions so unique and revolutionary that they became events in themselves, attracting significant attention and coverage.\"}, {'inputs': \"### Instruction: What is the role of a villain or 'bad guy' in Steve Jobs' marketing strategy? \\n\\n### Response: The role of a villain or 'bad guy' is to create drama, conflict, and a sense of a noble underdog that Steve Jobs believed was essential for storytelling and leading a movement in marketing.\"}, {'inputs': '### Instruction: What was the response of the audience when Steve Jobs introduced the MacBook Air in a manila envelope? \\n\\n### Response: The audience was astonished and impressed when Steve Jobs introduced the MacBook Air by sliding it out of a manila envelope, which conveyed more about the product than words could.'}]\n"
          ]
        }
      ]
    },
    {
      "cell_type": "code",
      "source": [
        "main(samples)"
      ],
      "metadata": {
        "id": "mFU5l0msoNG3",
        "outputId": "e50e4e01-475c-4a83-8ded-b6ce9c3de3b7",
        "colab": {
          "base_uri": "https://localhost:8080/"
        }
      },
      "execution_count": 9,
      "outputs": [
        {
          "output_type": "stream",
          "name": "stdout",
          "text": [
            "Created model adapter with id f38c825d-e1cc-4016-9263-f69487f6c932_model_adapter\n",
            "Asking: ### Instruction: I am trying to market a revolutionalary new product called 'facecans'. Facecans are virtual reality headsets. How would Steve Jobs market such a product? \n",
            "\n",
            "### Response:\n",
            "Generated (before fine-tune): Steve Jobs was a master of marketing and product launches. Here are some strategies he might have used to market 'facecans':\n",
            "\n",
            "1. Simplify the message: Steve Jobs was known for his ability to distill complex technology into simple, easy-to-understand messages. He would have focused on the key benefits of 'facecans' and how they make life better, easier, or more enjoyable.\n",
            "\n",
            "2. Create a sense of\n",
            "Fine-tuning the model, iteration 1\n",
            "Fine-tuning the model, iteration 2\n",
            "Generated (after fine-tune): Steve Jobs would market Facecans by emphasizing its unique features and benefits, such as its immersive virtual reality experience, and how it can change the way people interact with technology. He would create a buzz around the product by using storytelling and emotional appeal to connect with potential customers. He would also focus on the design and aesthetics of the product, making it appealing to a wide range of consumers.\n"
          ]
        }
      ]
    },
    {
      "cell_type": "code",
      "source": [],
      "metadata": {
        "id": "_FwpQsc_ocTn"
      },
      "execution_count": null,
      "outputs": []
    }
  ]
}